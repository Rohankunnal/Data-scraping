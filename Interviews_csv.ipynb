{
 "cells": [
  {
   "cell_type": "markdown",
   "id": "9d17d6b3",
   "metadata": {},
   "source": [
    "## 3. Scrape the following static website to extract the given data:\n",
    "• Link: https://devtomanager.com/interviews/\n",
    "• Write a reusable function code for 5 pages and to scrape the following data with proper\n",
    "data type conversion if required\n",
    "1. Employee Name: Object type\n",
    "2. Job Position: object\n",
    "3. Working: Company\n",
    "4. Interview quote: object type\n",
    "5. Date: Date type\n",
    "6. Tags: list\n",
    "• Once scraped, store the data in DataFrame and Convert the DataFrame into .csv file.\n",
    "Then upload the notebook and dataset to Github Repository."
   ]
  },
  {
   "cell_type": "code",
   "execution_count": 13,
   "id": "69a2b454",
   "metadata": {},
   "outputs": [],
   "source": [
    "url = 'https://devtomanager.com/interviews/'"
   ]
  },
  {
   "cell_type": "code",
   "execution_count": 14,
   "id": "e7ff2ae5",
   "metadata": {},
   "outputs": [],
   "source": [
    "import os"
   ]
  },
  {
   "cell_type": "code",
   "execution_count": 15,
   "id": "558f8569",
   "metadata": {},
   "outputs": [],
   "source": [
    "os.chdir('E:\\DR\\webdriver')"
   ]
  },
  {
   "cell_type": "code",
   "execution_count": 16,
   "id": "20f686d7",
   "metadata": {},
   "outputs": [],
   "source": [
    "import requests\n",
    "import numpy as np\n",
    "import pandas as pd\n",
    "from bs4 import BeautifulSoup\n",
    "from tqdm import tqdm"
   ]
  },
  {
   "cell_type": "code",
   "execution_count": 17,
   "id": "bb4e6fb2",
   "metadata": {},
   "outputs": [
    {
     "data": {
      "text/plain": [
       "<Response [200]>"
      ]
     },
     "execution_count": 17,
     "metadata": {},
     "output_type": "execute_result"
    }
   ],
   "source": [
    "html = requests.get(url)\n",
    "html"
   ]
  },
  {
   "cell_type": "code",
   "execution_count": 18,
   "id": "87cdfcea",
   "metadata": {},
   "outputs": [],
   "source": [
    "html = requests.get(url).text"
   ]
  },
  {
   "cell_type": "code",
   "execution_count": 19,
   "id": "585d90f0",
   "metadata": {},
   "outputs": [],
   "source": [
    "soup = BeautifulSoup(html, \"html.parser\")"
   ]
  },
  {
   "cell_type": "code",
   "execution_count": 20,
   "id": "abecb99d",
   "metadata": {},
   "outputs": [
    {
     "data": {
      "text/plain": [
       "['Aviv Ben-Yosef', 'Anand Safi', 'Shawn Axsom', 'Kevin Doyle', 'Arnab Sen']"
      ]
     },
     "execution_count": 20,
     "metadata": {},
     "output_type": "execute_result"
    }
   ],
   "source": [
    "name = [i.text.strip().split(',')[0] for i in soup.find_all('h5',class_='card-title')]\n",
    "name"
   ]
  },
  {
   "cell_type": "code",
   "execution_count": 21,
   "id": "cf775450",
   "metadata": {},
   "outputs": [
    {
     "data": {
      "text/plain": [
       "[' Tech Executive Consultant',\n",
       " ' Engineering Manager at Mark43',\n",
       " ' Senior Engineering Manager at Docker',\n",
       " ' CTO at patientMpower',\n",
       " ' Technical Delivery Manager at AKQA']"
      ]
     },
     "execution_count": 21,
     "metadata": {},
     "output_type": "execute_result"
    }
   ],
   "source": [
    "job = [i.text.strip().split(',')[1] for i in soup.find_all('h5',class_='card-title')]\n",
    "job"
   ]
  },
  {
   "cell_type": "code",
   "execution_count": 22,
   "id": "de6b8954",
   "metadata": {},
   "outputs": [
    {
     "data": {
      "text/plain": [
       "[' Tech Executive Consultant',\n",
       " ' Engineering Manager ',\n",
       " ' Senior Engineering Manager ',\n",
       " ' CTO ',\n",
       " ' Technical Delivery Manager ']"
      ]
     },
     "execution_count": 22,
     "metadata": {},
     "output_type": "execute_result"
    }
   ],
   "source": [
    "job1 = [i.split('at')[0] for i in job]\n",
    "job1"
   ]
  },
  {
   "cell_type": "code",
   "execution_count": 24,
   "id": "b04303ca",
   "metadata": {},
   "outputs": [
    {
     "data": {
      "text/plain": [
       "[nan, ' Mark43', ' Docker', ' p', ' AKQA']"
      ]
     },
     "execution_count": 24,
     "metadata": {},
     "output_type": "execute_result"
    }
   ],
   "source": [
    "company=[]\n",
    "for i in job:\n",
    "    try:\n",
    "        company.append(i.split('at')[1])\n",
    "    except:\n",
    "        company.append(np.nan)\n",
    "company"
   ]
  },
  {
   "cell_type": "code",
   "execution_count": 25,
   "id": "614b2e8e",
   "metadata": {},
   "outputs": [
    {
     "data": {
      "text/plain": [
       "['“I want to set up managers to succeed, no matter how much background they’ve already got.”',\n",
       " '“I very well understand where my interests lie, which is being an enabler first and then a creator rather than being a creator/ maker 100%.”',\n",
       " '“Your focus (and challenges) grows from your direct reports, to teams, to departments, executives, and then external customers and partnerships.”',\n",
       " '“If I can provide enough direction to allow people to focus on the jobs they’ll do better than I ever could, everybody wins.”',\n",
       " '“The switch to management can be highly rewarding and provide a level of independence, authority, and interactivity that a pure software engineering role may not offer.”']"
      ]
     },
     "execution_count": 25,
     "metadata": {},
     "output_type": "execute_result"
    }
   ],
   "source": [
    "quote = [i.find('p',class_='card-text').text.strip() for i in soup.find_all('div',class_='col-md-8')]\n",
    "quote"
   ]
  },
  {
   "cell_type": "code",
   "execution_count": 26,
   "id": "25ecf3b3",
   "metadata": {},
   "outputs": [
    {
     "data": {
      "text/plain": [
       "['“I want to set up managers to succeed',\n",
       " 'August 16',\n",
       " '“I very well understand where my interests lie',\n",
       " 'July 19',\n",
       " '“Your focus (and challenges) grows from your direct reports',\n",
       " 'July 05',\n",
       " '“If I can provide enough direction to allow people to focus on the jobs they’ll do better than I ever could',\n",
       " 'June 21',\n",
       " '“The switch to management can be highly rewarding and provide a level of independence',\n",
       " 'May 10']"
      ]
     },
     "execution_count": 26,
     "metadata": {},
     "output_type": "execute_result"
    }
   ],
   "source": [
    "tags = [i.text.strip().split('\\n')[0].split(',')[0] for i in [i for i in soup.find_all('p',class_='card-text')]]\n",
    "tags"
   ]
  },
  {
   "cell_type": "code",
   "execution_count": 27,
   "id": "0e351980",
   "metadata": {},
   "outputs": [],
   "source": [
    "a=soup.find_all('p',class_='card-text')\n",
    "b=[a[i].text.strip() for i in range(1,10,2)]\n",
    "date=[i.split('\\n')[0] for i in b]\n",
    "tags=[i.split()[4:] for i in b]"
   ]
  },
  {
   "cell_type": "code",
   "execution_count": 28,
   "id": "847bb84e",
   "metadata": {},
   "outputs": [
    {
     "data": {
      "text/plain": [
       "['August 16, 2021',\n",
       " 'July 19, 2021',\n",
       " 'July 05, 2021',\n",
       " 'June 21, 2021',\n",
       " 'May 10, 2021']"
      ]
     },
     "execution_count": 28,
     "metadata": {},
     "output_type": "execute_result"
    }
   ],
   "source": [
    "date"
   ]
  },
  {
   "cell_type": "code",
   "execution_count": 29,
   "id": "a365e43b",
   "metadata": {},
   "outputs": [
    {
     "data": {
      "text/plain": [
       "[['#coaching', '#consulting'],\n",
       " ['#coaching', '#frontend', '#full-stack', '#public-safety'],\n",
       " ['#backend', '#coaching', '#information-systems', '#web'],\n",
       " ['#full-stack', '#health-tech'],\n",
       " ['#consulting', '#digital-marketing', '#e-commerce', '#product']]"
      ]
     },
     "execution_count": 29,
     "metadata": {},
     "output_type": "execute_result"
    }
   ],
   "source": [
    "tags"
   ]
  },
  {
   "cell_type": "code",
   "execution_count": 30,
   "id": "14b2344d",
   "metadata": {},
   "outputs": [],
   "source": [
    "def static():\n",
    "    name = [i.text.strip().split(',')[0] for i in soup.find_all('h5',class_='card-title')]\n",
    "    job = [i.text.strip().split(',')[1] for i in soup.find_all('h5',class_='card-title')]\n",
    "    job1 = [i.split('at')[0] for i in job]\n",
    "    c=[]\n",
    "    for i in job:\n",
    "        try:\n",
    "            c.append(i.split('at')[1])\n",
    "        except:\n",
    "            c.append(np.nan)\n",
    "    quote = [i.find('p',class_='card-text').text.strip() for i in soup.find_all('div',class_='col-md-8')]\n",
    "    b=[a[i].text.strip() for i in range(1,10,2)]\n",
    "    date=[i.split('\\n')[0] for i in b]\n",
    "    tags=[i.split()[4:] for i in b]\n",
    "    return pd.DataFrame({'Employee Name':name,\n",
    "                         'Job Position':job1,\n",
    "                         'Company':c,\n",
    "                         'Interview quote':quote,\n",
    "                         'Date':date,\n",
    "                         'Tags':tags})"
   ]
  },
  {
   "cell_type": "code",
   "execution_count": 31,
   "id": "8df06670",
   "metadata": {},
   "outputs": [
    {
     "name": "stderr",
     "output_type": "stream",
     "text": [
      "100%|████████████████████████████████████████████████████████████████████████████████████| 5/5 [00:01<00:00,  3.98it/s]\n"
     ]
    }
   ],
   "source": [
    "tables=[]\n",
    "for i in tqdm(range(1,6)):\n",
    "    url1=url.format(i)\n",
    "    html=requests.get(url1).text\n",
    "    soup=BeautifulSoup(html,'html.parser')\n",
    "    a=soup.find_all('p',class_='card-text')\n",
    "    tables.append(static())"
   ]
  },
  {
   "cell_type": "code",
   "execution_count": 32,
   "id": "a0d5ca58",
   "metadata": {},
   "outputs": [
    {
     "data": {
      "text/html": [
       "<div>\n",
       "<style scoped>\n",
       "    .dataframe tbody tr th:only-of-type {\n",
       "        vertical-align: middle;\n",
       "    }\n",
       "\n",
       "    .dataframe tbody tr th {\n",
       "        vertical-align: top;\n",
       "    }\n",
       "\n",
       "    .dataframe thead th {\n",
       "        text-align: right;\n",
       "    }\n",
       "</style>\n",
       "<table border=\"1\" class=\"dataframe\">\n",
       "  <thead>\n",
       "    <tr style=\"text-align: right;\">\n",
       "      <th></th>\n",
       "      <th>Employee Name</th>\n",
       "      <th>Job Position</th>\n",
       "      <th>Company</th>\n",
       "      <th>Interview quote</th>\n",
       "      <th>Date</th>\n",
       "      <th>Tags</th>\n",
       "    </tr>\n",
       "  </thead>\n",
       "  <tbody>\n",
       "    <tr>\n",
       "      <th>0</th>\n",
       "      <td>Aviv Ben-Yosef</td>\n",
       "      <td>Tech Executive Consultant</td>\n",
       "      <td>NaN</td>\n",
       "      <td>“I want to set up managers to succeed, no matt...</td>\n",
       "      <td>August 16, 2021</td>\n",
       "      <td>[#coaching, #consulting]</td>\n",
       "    </tr>\n",
       "    <tr>\n",
       "      <th>1</th>\n",
       "      <td>Anand Safi</td>\n",
       "      <td>Engineering Manager</td>\n",
       "      <td>Mark43</td>\n",
       "      <td>“I very well understand where my interests lie...</td>\n",
       "      <td>July 19, 2021</td>\n",
       "      <td>[#coaching, #frontend, #full-stack, #public-sa...</td>\n",
       "    </tr>\n",
       "    <tr>\n",
       "      <th>2</th>\n",
       "      <td>Shawn Axsom</td>\n",
       "      <td>Senior Engineering Manager</td>\n",
       "      <td>Docker</td>\n",
       "      <td>“Your focus (and challenges) grows from your d...</td>\n",
       "      <td>July 05, 2021</td>\n",
       "      <td>[#backend, #coaching, #information-systems, #web]</td>\n",
       "    </tr>\n",
       "    <tr>\n",
       "      <th>3</th>\n",
       "      <td>Kevin Doyle</td>\n",
       "      <td>CTO</td>\n",
       "      <td>p</td>\n",
       "      <td>“If I can provide enough direction to allow pe...</td>\n",
       "      <td>June 21, 2021</td>\n",
       "      <td>[#full-stack, #health-tech]</td>\n",
       "    </tr>\n",
       "    <tr>\n",
       "      <th>4</th>\n",
       "      <td>Arnab Sen</td>\n",
       "      <td>Technical Delivery Manager</td>\n",
       "      <td>AKQA</td>\n",
       "      <td>“The switch to management can be highly reward...</td>\n",
       "      <td>May 10, 2021</td>\n",
       "      <td>[#consulting, #digital-marketing, #e-commerce,...</td>\n",
       "    </tr>\n",
       "  </tbody>\n",
       "</table>\n",
       "</div>"
      ],
      "text/plain": [
       "    Employee Name                  Job Position  Company  \\\n",
       "0  Aviv Ben-Yosef     Tech Executive Consultant      NaN   \n",
       "1      Anand Safi          Engineering Manager    Mark43   \n",
       "2     Shawn Axsom   Senior Engineering Manager    Docker   \n",
       "3     Kevin Doyle                          CTO         p   \n",
       "4       Arnab Sen   Technical Delivery Manager      AKQA   \n",
       "\n",
       "                                     Interview quote             Date  \\\n",
       "0  “I want to set up managers to succeed, no matt...  August 16, 2021   \n",
       "1  “I very well understand where my interests lie...    July 19, 2021   \n",
       "2  “Your focus (and challenges) grows from your d...    July 05, 2021   \n",
       "3  “If I can provide enough direction to allow pe...    June 21, 2021   \n",
       "4  “The switch to management can be highly reward...     May 10, 2021   \n",
       "\n",
       "                                                Tags  \n",
       "0                           [#coaching, #consulting]  \n",
       "1  [#coaching, #frontend, #full-stack, #public-sa...  \n",
       "2  [#backend, #coaching, #information-systems, #web]  \n",
       "3                        [#full-stack, #health-tech]  \n",
       "4  [#consulting, #digital-marketing, #e-commerce,...  "
      ]
     },
     "execution_count": 32,
     "metadata": {},
     "output_type": "execute_result"
    }
   ],
   "source": [
    "df=pd.concat(tables,axis=0)\n",
    "df.head()"
   ]
  },
  {
   "cell_type": "code",
   "execution_count": 34,
   "id": "934c6e8e",
   "metadata": {},
   "outputs": [
    {
     "data": {
      "text/plain": [
       "(25, 6)"
      ]
     },
     "execution_count": 34,
     "metadata": {},
     "output_type": "execute_result"
    }
   ],
   "source": [
    "df.shape"
   ]
  },
  {
   "cell_type": "code",
   "execution_count": 33,
   "id": "a41e0bf7",
   "metadata": {},
   "outputs": [
    {
     "name": "stdout",
     "output_type": "stream",
     "text": [
      "<class 'pandas.core.frame.DataFrame'>\n",
      "Int64Index: 25 entries, 0 to 4\n",
      "Data columns (total 6 columns):\n",
      " #   Column           Non-Null Count  Dtype \n",
      "---  ------           --------------  ----- \n",
      " 0   Employee Name    25 non-null     object\n",
      " 1   Job Position     25 non-null     object\n",
      " 2   Company          20 non-null     object\n",
      " 3   Interview quote  25 non-null     object\n",
      " 4   Date             25 non-null     object\n",
      " 5   Tags             25 non-null     object\n",
      "dtypes: object(6)\n",
      "memory usage: 1.4+ KB\n"
     ]
    }
   ],
   "source": [
    "df.info()"
   ]
  },
  {
   "cell_type": "code",
   "execution_count": 35,
   "id": "e7b9a9ba",
   "metadata": {},
   "outputs": [],
   "source": [
    "df['Date']=pd.to_datetime(df['Date'])"
   ]
  },
  {
   "cell_type": "code",
   "execution_count": 36,
   "id": "c95719d3",
   "metadata": {},
   "outputs": [
    {
     "name": "stdout",
     "output_type": "stream",
     "text": [
      "<class 'pandas.core.frame.DataFrame'>\n",
      "Int64Index: 25 entries, 0 to 4\n",
      "Data columns (total 6 columns):\n",
      " #   Column           Non-Null Count  Dtype         \n",
      "---  ------           --------------  -----         \n",
      " 0   Employee Name    25 non-null     object        \n",
      " 1   Job Position     25 non-null     object        \n",
      " 2   Company          20 non-null     object        \n",
      " 3   Interview quote  25 non-null     object        \n",
      " 4   Date             25 non-null     datetime64[ns]\n",
      " 5   Tags             25 non-null     object        \n",
      "dtypes: datetime64[ns](1), object(5)\n",
      "memory usage: 1.4+ KB\n"
     ]
    }
   ],
   "source": [
    "df.info()"
   ]
  },
  {
   "cell_type": "code",
   "execution_count": 37,
   "id": "41140c56",
   "metadata": {},
   "outputs": [],
   "source": [
    "df.to_csv('Interviews.csv',index=False)"
   ]
  },
  {
   "cell_type": "code",
   "execution_count": 38,
   "id": "8cbf477f",
   "metadata": {},
   "outputs": [
    {
     "data": {
      "text/html": [
       "<div>\n",
       "<style scoped>\n",
       "    .dataframe tbody tr th:only-of-type {\n",
       "        vertical-align: middle;\n",
       "    }\n",
       "\n",
       "    .dataframe tbody tr th {\n",
       "        vertical-align: top;\n",
       "    }\n",
       "\n",
       "    .dataframe thead th {\n",
       "        text-align: right;\n",
       "    }\n",
       "</style>\n",
       "<table border=\"1\" class=\"dataframe\">\n",
       "  <thead>\n",
       "    <tr style=\"text-align: right;\">\n",
       "      <th></th>\n",
       "      <th>Employee Name</th>\n",
       "      <th>Job Position</th>\n",
       "      <th>Company</th>\n",
       "      <th>Interview quote</th>\n",
       "      <th>Date</th>\n",
       "      <th>Tags</th>\n",
       "    </tr>\n",
       "  </thead>\n",
       "  <tbody>\n",
       "    <tr>\n",
       "      <th>0</th>\n",
       "      <td>Aviv Ben-Yosef</td>\n",
       "      <td>Tech Executive Consultant</td>\n",
       "      <td>NaN</td>\n",
       "      <td>“I want to set up managers to succeed, no matt...</td>\n",
       "      <td>2021-08-16</td>\n",
       "      <td>['#coaching', '#consulting']</td>\n",
       "    </tr>\n",
       "    <tr>\n",
       "      <th>1</th>\n",
       "      <td>Anand Safi</td>\n",
       "      <td>Engineering Manager</td>\n",
       "      <td>Mark43</td>\n",
       "      <td>“I very well understand where my interests lie...</td>\n",
       "      <td>2021-07-19</td>\n",
       "      <td>['#coaching', '#frontend', '#full-stack', '#pu...</td>\n",
       "    </tr>\n",
       "    <tr>\n",
       "      <th>2</th>\n",
       "      <td>Shawn Axsom</td>\n",
       "      <td>Senior Engineering Manager</td>\n",
       "      <td>Docker</td>\n",
       "      <td>“Your focus (and challenges) grows from your d...</td>\n",
       "      <td>2021-07-05</td>\n",
       "      <td>['#backend', '#coaching', '#information-system...</td>\n",
       "    </tr>\n",
       "    <tr>\n",
       "      <th>3</th>\n",
       "      <td>Kevin Doyle</td>\n",
       "      <td>CTO</td>\n",
       "      <td>p</td>\n",
       "      <td>“If I can provide enough direction to allow pe...</td>\n",
       "      <td>2021-06-21</td>\n",
       "      <td>['#full-stack', '#health-tech']</td>\n",
       "    </tr>\n",
       "    <tr>\n",
       "      <th>4</th>\n",
       "      <td>Arnab Sen</td>\n",
       "      <td>Technical Delivery Manager</td>\n",
       "      <td>AKQA</td>\n",
       "      <td>“The switch to management can be highly reward...</td>\n",
       "      <td>2021-05-10</td>\n",
       "      <td>['#consulting', '#digital-marketing', '#e-comm...</td>\n",
       "    </tr>\n",
       "    <tr>\n",
       "      <th>5</th>\n",
       "      <td>Aviv Ben-Yosef</td>\n",
       "      <td>Tech Executive Consultant</td>\n",
       "      <td>NaN</td>\n",
       "      <td>“I want to set up managers to succeed, no matt...</td>\n",
       "      <td>2021-08-16</td>\n",
       "      <td>['#coaching', '#consulting']</td>\n",
       "    </tr>\n",
       "    <tr>\n",
       "      <th>6</th>\n",
       "      <td>Anand Safi</td>\n",
       "      <td>Engineering Manager</td>\n",
       "      <td>Mark43</td>\n",
       "      <td>“I very well understand where my interests lie...</td>\n",
       "      <td>2021-07-19</td>\n",
       "      <td>['#coaching', '#frontend', '#full-stack', '#pu...</td>\n",
       "    </tr>\n",
       "    <tr>\n",
       "      <th>7</th>\n",
       "      <td>Shawn Axsom</td>\n",
       "      <td>Senior Engineering Manager</td>\n",
       "      <td>Docker</td>\n",
       "      <td>“Your focus (and challenges) grows from your d...</td>\n",
       "      <td>2021-07-05</td>\n",
       "      <td>['#backend', '#coaching', '#information-system...</td>\n",
       "    </tr>\n",
       "    <tr>\n",
       "      <th>8</th>\n",
       "      <td>Kevin Doyle</td>\n",
       "      <td>CTO</td>\n",
       "      <td>p</td>\n",
       "      <td>“If I can provide enough direction to allow pe...</td>\n",
       "      <td>2021-06-21</td>\n",
       "      <td>['#full-stack', '#health-tech']</td>\n",
       "    </tr>\n",
       "    <tr>\n",
       "      <th>9</th>\n",
       "      <td>Arnab Sen</td>\n",
       "      <td>Technical Delivery Manager</td>\n",
       "      <td>AKQA</td>\n",
       "      <td>“The switch to management can be highly reward...</td>\n",
       "      <td>2021-05-10</td>\n",
       "      <td>['#consulting', '#digital-marketing', '#e-comm...</td>\n",
       "    </tr>\n",
       "    <tr>\n",
       "      <th>10</th>\n",
       "      <td>Aviv Ben-Yosef</td>\n",
       "      <td>Tech Executive Consultant</td>\n",
       "      <td>NaN</td>\n",
       "      <td>“I want to set up managers to succeed, no matt...</td>\n",
       "      <td>2021-08-16</td>\n",
       "      <td>['#coaching', '#consulting']</td>\n",
       "    </tr>\n",
       "    <tr>\n",
       "      <th>11</th>\n",
       "      <td>Anand Safi</td>\n",
       "      <td>Engineering Manager</td>\n",
       "      <td>Mark43</td>\n",
       "      <td>“I very well understand where my interests lie...</td>\n",
       "      <td>2021-07-19</td>\n",
       "      <td>['#coaching', '#frontend', '#full-stack', '#pu...</td>\n",
       "    </tr>\n",
       "    <tr>\n",
       "      <th>12</th>\n",
       "      <td>Shawn Axsom</td>\n",
       "      <td>Senior Engineering Manager</td>\n",
       "      <td>Docker</td>\n",
       "      <td>“Your focus (and challenges) grows from your d...</td>\n",
       "      <td>2021-07-05</td>\n",
       "      <td>['#backend', '#coaching', '#information-system...</td>\n",
       "    </tr>\n",
       "    <tr>\n",
       "      <th>13</th>\n",
       "      <td>Kevin Doyle</td>\n",
       "      <td>CTO</td>\n",
       "      <td>p</td>\n",
       "      <td>“If I can provide enough direction to allow pe...</td>\n",
       "      <td>2021-06-21</td>\n",
       "      <td>['#full-stack', '#health-tech']</td>\n",
       "    </tr>\n",
       "    <tr>\n",
       "      <th>14</th>\n",
       "      <td>Arnab Sen</td>\n",
       "      <td>Technical Delivery Manager</td>\n",
       "      <td>AKQA</td>\n",
       "      <td>“The switch to management can be highly reward...</td>\n",
       "      <td>2021-05-10</td>\n",
       "      <td>['#consulting', '#digital-marketing', '#e-comm...</td>\n",
       "    </tr>\n",
       "    <tr>\n",
       "      <th>15</th>\n",
       "      <td>Aviv Ben-Yosef</td>\n",
       "      <td>Tech Executive Consultant</td>\n",
       "      <td>NaN</td>\n",
       "      <td>“I want to set up managers to succeed, no matt...</td>\n",
       "      <td>2021-08-16</td>\n",
       "      <td>['#coaching', '#consulting']</td>\n",
       "    </tr>\n",
       "    <tr>\n",
       "      <th>16</th>\n",
       "      <td>Anand Safi</td>\n",
       "      <td>Engineering Manager</td>\n",
       "      <td>Mark43</td>\n",
       "      <td>“I very well understand where my interests lie...</td>\n",
       "      <td>2021-07-19</td>\n",
       "      <td>['#coaching', '#frontend', '#full-stack', '#pu...</td>\n",
       "    </tr>\n",
       "    <tr>\n",
       "      <th>17</th>\n",
       "      <td>Shawn Axsom</td>\n",
       "      <td>Senior Engineering Manager</td>\n",
       "      <td>Docker</td>\n",
       "      <td>“Your focus (and challenges) grows from your d...</td>\n",
       "      <td>2021-07-05</td>\n",
       "      <td>['#backend', '#coaching', '#information-system...</td>\n",
       "    </tr>\n",
       "    <tr>\n",
       "      <th>18</th>\n",
       "      <td>Kevin Doyle</td>\n",
       "      <td>CTO</td>\n",
       "      <td>p</td>\n",
       "      <td>“If I can provide enough direction to allow pe...</td>\n",
       "      <td>2021-06-21</td>\n",
       "      <td>['#full-stack', '#health-tech']</td>\n",
       "    </tr>\n",
       "    <tr>\n",
       "      <th>19</th>\n",
       "      <td>Arnab Sen</td>\n",
       "      <td>Technical Delivery Manager</td>\n",
       "      <td>AKQA</td>\n",
       "      <td>“The switch to management can be highly reward...</td>\n",
       "      <td>2021-05-10</td>\n",
       "      <td>['#consulting', '#digital-marketing', '#e-comm...</td>\n",
       "    </tr>\n",
       "    <tr>\n",
       "      <th>20</th>\n",
       "      <td>Aviv Ben-Yosef</td>\n",
       "      <td>Tech Executive Consultant</td>\n",
       "      <td>NaN</td>\n",
       "      <td>“I want to set up managers to succeed, no matt...</td>\n",
       "      <td>2021-08-16</td>\n",
       "      <td>['#coaching', '#consulting']</td>\n",
       "    </tr>\n",
       "    <tr>\n",
       "      <th>21</th>\n",
       "      <td>Anand Safi</td>\n",
       "      <td>Engineering Manager</td>\n",
       "      <td>Mark43</td>\n",
       "      <td>“I very well understand where my interests lie...</td>\n",
       "      <td>2021-07-19</td>\n",
       "      <td>['#coaching', '#frontend', '#full-stack', '#pu...</td>\n",
       "    </tr>\n",
       "    <tr>\n",
       "      <th>22</th>\n",
       "      <td>Shawn Axsom</td>\n",
       "      <td>Senior Engineering Manager</td>\n",
       "      <td>Docker</td>\n",
       "      <td>“Your focus (and challenges) grows from your d...</td>\n",
       "      <td>2021-07-05</td>\n",
       "      <td>['#backend', '#coaching', '#information-system...</td>\n",
       "    </tr>\n",
       "    <tr>\n",
       "      <th>23</th>\n",
       "      <td>Kevin Doyle</td>\n",
       "      <td>CTO</td>\n",
       "      <td>p</td>\n",
       "      <td>“If I can provide enough direction to allow pe...</td>\n",
       "      <td>2021-06-21</td>\n",
       "      <td>['#full-stack', '#health-tech']</td>\n",
       "    </tr>\n",
       "    <tr>\n",
       "      <th>24</th>\n",
       "      <td>Arnab Sen</td>\n",
       "      <td>Technical Delivery Manager</td>\n",
       "      <td>AKQA</td>\n",
       "      <td>“The switch to management can be highly reward...</td>\n",
       "      <td>2021-05-10</td>\n",
       "      <td>['#consulting', '#digital-marketing', '#e-comm...</td>\n",
       "    </tr>\n",
       "  </tbody>\n",
       "</table>\n",
       "</div>"
      ],
      "text/plain": [
       "     Employee Name                  Job Position  Company  \\\n",
       "0   Aviv Ben-Yosef     Tech Executive Consultant      NaN   \n",
       "1       Anand Safi          Engineering Manager    Mark43   \n",
       "2      Shawn Axsom   Senior Engineering Manager    Docker   \n",
       "3      Kevin Doyle                          CTO         p   \n",
       "4        Arnab Sen   Technical Delivery Manager      AKQA   \n",
       "5   Aviv Ben-Yosef     Tech Executive Consultant      NaN   \n",
       "6       Anand Safi          Engineering Manager    Mark43   \n",
       "7      Shawn Axsom   Senior Engineering Manager    Docker   \n",
       "8      Kevin Doyle                          CTO         p   \n",
       "9        Arnab Sen   Technical Delivery Manager      AKQA   \n",
       "10  Aviv Ben-Yosef     Tech Executive Consultant      NaN   \n",
       "11      Anand Safi          Engineering Manager    Mark43   \n",
       "12     Shawn Axsom   Senior Engineering Manager    Docker   \n",
       "13     Kevin Doyle                          CTO         p   \n",
       "14       Arnab Sen   Technical Delivery Manager      AKQA   \n",
       "15  Aviv Ben-Yosef     Tech Executive Consultant      NaN   \n",
       "16      Anand Safi          Engineering Manager    Mark43   \n",
       "17     Shawn Axsom   Senior Engineering Manager    Docker   \n",
       "18     Kevin Doyle                          CTO         p   \n",
       "19       Arnab Sen   Technical Delivery Manager      AKQA   \n",
       "20  Aviv Ben-Yosef     Tech Executive Consultant      NaN   \n",
       "21      Anand Safi          Engineering Manager    Mark43   \n",
       "22     Shawn Axsom   Senior Engineering Manager    Docker   \n",
       "23     Kevin Doyle                          CTO         p   \n",
       "24       Arnab Sen   Technical Delivery Manager      AKQA   \n",
       "\n",
       "                                      Interview quote        Date  \\\n",
       "0   “I want to set up managers to succeed, no matt...  2021-08-16   \n",
       "1   “I very well understand where my interests lie...  2021-07-19   \n",
       "2   “Your focus (and challenges) grows from your d...  2021-07-05   \n",
       "3   “If I can provide enough direction to allow pe...  2021-06-21   \n",
       "4   “The switch to management can be highly reward...  2021-05-10   \n",
       "5   “I want to set up managers to succeed, no matt...  2021-08-16   \n",
       "6   “I very well understand where my interests lie...  2021-07-19   \n",
       "7   “Your focus (and challenges) grows from your d...  2021-07-05   \n",
       "8   “If I can provide enough direction to allow pe...  2021-06-21   \n",
       "9   “The switch to management can be highly reward...  2021-05-10   \n",
       "10  “I want to set up managers to succeed, no matt...  2021-08-16   \n",
       "11  “I very well understand where my interests lie...  2021-07-19   \n",
       "12  “Your focus (and challenges) grows from your d...  2021-07-05   \n",
       "13  “If I can provide enough direction to allow pe...  2021-06-21   \n",
       "14  “The switch to management can be highly reward...  2021-05-10   \n",
       "15  “I want to set up managers to succeed, no matt...  2021-08-16   \n",
       "16  “I very well understand where my interests lie...  2021-07-19   \n",
       "17  “Your focus (and challenges) grows from your d...  2021-07-05   \n",
       "18  “If I can provide enough direction to allow pe...  2021-06-21   \n",
       "19  “The switch to management can be highly reward...  2021-05-10   \n",
       "20  “I want to set up managers to succeed, no matt...  2021-08-16   \n",
       "21  “I very well understand where my interests lie...  2021-07-19   \n",
       "22  “Your focus (and challenges) grows from your d...  2021-07-05   \n",
       "23  “If I can provide enough direction to allow pe...  2021-06-21   \n",
       "24  “The switch to management can be highly reward...  2021-05-10   \n",
       "\n",
       "                                                 Tags  \n",
       "0                        ['#coaching', '#consulting']  \n",
       "1   ['#coaching', '#frontend', '#full-stack', '#pu...  \n",
       "2   ['#backend', '#coaching', '#information-system...  \n",
       "3                     ['#full-stack', '#health-tech']  \n",
       "4   ['#consulting', '#digital-marketing', '#e-comm...  \n",
       "5                        ['#coaching', '#consulting']  \n",
       "6   ['#coaching', '#frontend', '#full-stack', '#pu...  \n",
       "7   ['#backend', '#coaching', '#information-system...  \n",
       "8                     ['#full-stack', '#health-tech']  \n",
       "9   ['#consulting', '#digital-marketing', '#e-comm...  \n",
       "10                       ['#coaching', '#consulting']  \n",
       "11  ['#coaching', '#frontend', '#full-stack', '#pu...  \n",
       "12  ['#backend', '#coaching', '#information-system...  \n",
       "13                    ['#full-stack', '#health-tech']  \n",
       "14  ['#consulting', '#digital-marketing', '#e-comm...  \n",
       "15                       ['#coaching', '#consulting']  \n",
       "16  ['#coaching', '#frontend', '#full-stack', '#pu...  \n",
       "17  ['#backend', '#coaching', '#information-system...  \n",
       "18                    ['#full-stack', '#health-tech']  \n",
       "19  ['#consulting', '#digital-marketing', '#e-comm...  \n",
       "20                       ['#coaching', '#consulting']  \n",
       "21  ['#coaching', '#frontend', '#full-stack', '#pu...  \n",
       "22  ['#backend', '#coaching', '#information-system...  \n",
       "23                    ['#full-stack', '#health-tech']  \n",
       "24  ['#consulting', '#digital-marketing', '#e-comm...  "
      ]
     },
     "execution_count": 38,
     "metadata": {},
     "output_type": "execute_result"
    }
   ],
   "source": [
    "pd.read_csv('Interviews.csv')"
   ]
  },
  {
   "cell_type": "code",
   "execution_count": null,
   "id": "8bfdaef3",
   "metadata": {},
   "outputs": [],
   "source": []
  }
 ],
 "metadata": {
  "kernelspec": {
   "display_name": "Python 3",
   "language": "python",
   "name": "python3"
  },
  "language_info": {
   "codemirror_mode": {
    "name": "ipython",
    "version": 3
   },
   "file_extension": ".py",
   "mimetype": "text/x-python",
   "name": "python",
   "nbconvert_exporter": "python",
   "pygments_lexer": "ipython3",
   "version": "3.8.8"
  }
 },
 "nbformat": 4,
 "nbformat_minor": 5
}
